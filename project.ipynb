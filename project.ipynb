{
 "cells": [
  {
   "cell_type": "code",
   "execution_count": 7,
   "metadata": {},
   "outputs": [],
   "source": [
    "import cv2\n",
    "import numpy as np"
   ]
  },
  {
   "cell_type": "code",
   "execution_count": 8,
   "metadata": {},
   "outputs": [],
   "source": [
    "def calculate_hu_moments(image):\n",
    "    gray = cv2.cvtColor(image, cv2.COLOR_BGR2GRAY)\n",
    "    _, thresh = cv2.threshold(gray, 128, 255, cv2.THRESH_BINARY)\n",
    "    moments = cv2.moments(thresh)\n",
    "    hu_moments = cv2.HuMoments(moments).flatten()\n",
    "    return -np.sign(hu_moments) * np.log10(np.abs(hu_moments))"
   ]
  },
  {
   "cell_type": "code",
   "execution_count": 10,
   "metadata": {},
   "outputs": [],
   "source": [
    "# Assuming you have a list of file paths to your images\n",
    "image_paths = [\"img/person1-0001_jpg1.jpg\",\"img/person1-0001_jpg2.jpg\", \"img/person1-0001_jpg3.jpg\",\n",
    "               \"img/person2-0002_jpg1.jpg\", \"img/person2-0002_jpg2.jpg\", \"img/person2-0002_jpg3.jpg\",\n",
    "               \"img/person3-0011_jpg1.jpg\", \"img/person3-0011_jpg2.jpg\",\"img/person3-0011_jpg3.jpg\"]\n",
    "\n",
    "# Initialize lists to store Hu Moments and dissimilarities\n",
    "huMomentsList = []"
   ]
  },
  {
   "cell_type": "code",
   "execution_count": 11,
   "metadata": {},
   "outputs": [
    {
     "name": "stdout",
     "output_type": "stream",
     "text": [
      "Hu Moments for Person 1 Image 1: [ 2.81442594  6.06787272 10.56729196 10.28272415 20.70996317 13.31666398\n",
      " 21.70297762]\n",
      "Hu Moments for Person 1 Image 2: [  2.81446171   6.06792829  10.56781352  10.28333287  20.71113308\n",
      "  13.3173003  -21.70453453]\n",
      "Hu Moments for Person 1 Image 3: [ 2.81446171  6.06792829 10.56781352 10.28333287 20.71113308 13.3173003\n",
      " 21.70453453]\n",
      "Average Hu Moments for Person 1: [ 2.81444979  6.06790977 10.56763967 10.28312996 20.71074311 13.31708819\n",
      "  7.23432587]\n",
      "Hu Moments for Person 2 Image 1: [ 2.72250149  5.89765786 12.59444242 12.52622037 25.08665551 15.49513031\n",
      " 26.74701179]\n",
      "Hu Moments for Person 2 Image 2: [ 2.7225228   5.89770452 12.59526784 12.52726479 25.08863637 15.49625288\n",
      " 26.74581518]\n",
      "Hu Moments for Person 2 Image 3: [  2.72250149   5.89765786  12.59444242  12.52622037  25.08665551\n",
      "  15.49513031 -26.74701179]\n",
      "Average Hu Moments for Person 2: [ 2.72250859  5.89767341 12.59471756 12.52656851 25.0873158  15.4955045\n",
      "  8.91527173]\n",
      "Hu Moments for Person 3 Image 1: [  2.88268027   6.19009716  10.66484276  10.54968882  21.22352156\n",
      "  13.80999571 -21.44613634]\n",
      "Hu Moments for Person 3 Image 2: [ 2.88268027  6.19009716 10.66484276 10.54968882 21.22352156 13.80999571\n",
      " 21.44613634]\n",
      "Hu Moments for Person 3 Image 3: [  2.88270012   6.19013118  10.66501508  10.54997921  21.22410015\n",
      "  13.81042142 -21.44649964]\n",
      "Average Hu Moments for Person 3: [ 2.88268688  6.1901085  10.6649002  10.54978562 21.22371443 13.81013761\n",
      " -7.14883321]\n"
     ]
    }
   ],
   "source": [
    "def calculateAverageHuMoments(image_paths, person):\n",
    "    person_hu_moments = []\n",
    "\n",
    "    for i in range(0, len(image_paths), 3):\n",
    "        img1 = cv2.imread(image_paths[i])\n",
    "        img2 = cv2.imread(image_paths[i + 1])\n",
    "        img3 = cv2.imread(image_paths[i + 2])\n",
    "\n",
    "        huMoments1 = calculate_hu_moments(img1)\n",
    "        huMoments2 = calculate_hu_moments(img2)\n",
    "        huMoments3 = calculate_hu_moments(img3)\n",
    "\n",
    " \n",
    "\n",
    "        print(f\"Hu Moments for {person} Image 1: {huMoments1}\")\n",
    "        print(f\"Hu Moments for {person} Image 2: {huMoments2}\")\n",
    "        print(f\"Hu Moments for {person} Image 3: {huMoments3}\")\n",
    "\n",
    "\n",
    "        average_hu_moments = np.nanmean([huMoments1, huMoments2, huMoments3], axis=0)\n",
    "        person_hu_moments.append(average_hu_moments)\n",
    "\n",
    "    if not person_hu_moments:\n",
    "        print(f\"No valid data for {person}\")\n",
    "        return np.zeros(7)  \n",
    "\n",
    "    person_hu_moments = np.array(person_hu_moments)\n",
    "    return np.nanmean(person_hu_moments, axis=0)\n",
    "\n",
    "# Calculate and print average Hu moments for each person\n",
    "averagePerson1 = calculateAverageHuMoments(image_paths[:3], \"Person 1\")\n",
    "print(f\"Average Hu Moments for Person 1: {averagePerson1}\")\n",
    "\n",
    "averagePerson2 = calculateAverageHuMoments(image_paths[3:6], \"Person 2\")\n",
    "print(f\"Average Hu Moments for Person 2: {averagePerson2}\")\n",
    "\n",
    "averagePerson3 = calculateAverageHuMoments(image_paths[6:], \"Person 3\")\n",
    "print(f\"Average Hu Moments for Person 3: {averagePerson3}\")"
   ]
  }
 ],
 "metadata": {
  "kernelspec": {
   "display_name": "Python 3",
   "language": "python",
   "name": "python3"
  },
  "language_info": {
   "codemirror_mode": {
    "name": "ipython",
    "version": 3
   },
   "file_extension": ".py",
   "mimetype": "text/x-python",
   "name": "python",
   "nbconvert_exporter": "python",
   "pygments_lexer": "ipython3",
   "version": "3.11.3"
  }
 },
 "nbformat": 4,
 "nbformat_minor": 2
}
